{
 "cells": [
  {
   "cell_type": "markdown",
   "metadata": {
    "application/vnd.databricks.v1+cell": {
     "cellMetadata": {
      "byteLimit": 2048000,
      "rowLimit": 10000
     },
     "inputWidgets": {},
     "nuid": "c066fd3b-1028-4771-9c5a-cc119f61018a",
     "showTitle": false,
     "tableResultSettingsMap": {},
     "title": ""
    }
   },
   "source": [
    "\n",
    "## Overview\n",
    "\n",
    "1. Upload the provided files to your Databricks account on a DBFS storage.\n",
    "2. Create an ETL pipeline that does the following using Spark Notebooks:\n",
    "\n",
    "Read the parquet files from DBFS storage and create bronze table for each individual file using append only operation.\n",
    "Create silver layer table that uses SCD1 type. Each bronze table will be mapped to an individual silver table.\n",
    "Create gold layer tables to create analytical queries based on the below requirements. A total of 3 gold tables would be needed.\n",
    "Get the most sold products to identify the top-selling items.\n",
    "Find which suppliers provide ingredients to the most franchises.\n",
    "Get total sales per month."
   ]
  },
  {
   "cell_type": "markdown",
   "metadata": {
    "application/vnd.databricks.v1+cell": {
     "cellMetadata": {},
     "inputWidgets": {},
     "nuid": "d1fdaa6f-c0de-450d-983b-daaad816068a",
     "showTitle": false,
     "tableResultSettingsMap": {},
     "title": ""
    }
   },
   "source": [
    "# Database Creation"
   ]
  },
  {
   "cell_type": "code",
   "execution_count": 0,
   "metadata": {
    "application/vnd.databricks.v1+cell": {
     "cellMetadata": {
      "byteLimit": 2048000,
      "implicitDf": true,
      "rowLimit": 10000
     },
     "inputWidgets": {},
     "nuid": "b6e171ad-0066-48b2-bca6-bcab8b1bfd3a",
     "showTitle": false,
     "tableResultSettingsMap": {},
     "title": ""
    }
   },
   "outputs": [
    {
     "output_type": "display_data",
     "data": {
      "text/html": [
       "<style scoped>\n",
       "  .table-result-container {\n",
       "    max-height: 300px;\n",
       "    overflow: auto;\n",
       "  }\n",
       "  table, th, td {\n",
       "    border: 1px solid black;\n",
       "    border-collapse: collapse;\n",
       "  }\n",
       "  th, td {\n",
       "    padding: 5px;\n",
       "  }\n",
       "  th {\n",
       "    text-align: left;\n",
       "  }\n",
       "</style><div class='table-result-container'><table class='table-result'><thead style='background-color: white'><tr><th>databaseName</th></tr></thead><tbody><tr><td>bronze</td></tr><tr><td>default</td></tr><tr><td>gold</td></tr><tr><td>silver</td></tr></tbody></table></div>"
      ]
     },
     "metadata": {
      "application/vnd.databricks.v1+output": {
       "addedWidgets": {},
       "aggData": [],
       "aggError": "",
       "aggOverflow": false,
       "aggSchema": [],
       "aggSeriesLimitReached": false,
       "aggType": "",
       "arguments": {},
       "columnCustomDisplayInfos": {},
       "data": [
        [
         "bronze"
        ],
        [
         "default"
        ],
        [
         "gold"
        ],
        [
         "silver"
        ]
       ],
       "datasetInfos": [],
       "dbfsResultPath": null,
       "isJsonSchema": true,
       "metadata": {
        "dataframeName": "_sqldf",
        "executionCount": 3
       },
       "overflow": false,
       "plotOptions": {
        "customPlotOptions": {},
        "displayType": "table",
        "pivotAggregation": null,
        "pivotColumns": null,
        "xColumns": null,
        "yColumns": null
       },
       "removedWidgets": [],
       "schema": [
        {
         "metadata": "{}",
         "name": "databaseName",
         "type": "\"string\""
        }
       ],
       "type": "table"
      }
     },
     "output_type": "display_data"
    }
   ],
   "source": [
    "%sql\n",
    "CREATE DATABASE IF NOT EXISTS Bronze;\n",
    "CREATE DATABASE IF NOT EXISTS Silver;\n",
    "CREATE DATABASE IF NOT EXISTS Gold;\n",
    "SHOW DATABASES;"
   ]
  },
  {
   "cell_type": "markdown",
   "metadata": {
    "application/vnd.databricks.v1+cell": {
     "cellMetadata": {},
     "inputWidgets": {},
     "nuid": "7e18a4e2-094a-4c7a-91e5-85d14ce6a157",
     "showTitle": false,
     "tableResultSettingsMap": {},
     "title": ""
    }
   },
   "source": [
    "#Read Files"
   ]
  },
  {
   "cell_type": "code",
   "execution_count": 0,
   "metadata": {
    "application/vnd.databricks.v1+cell": {
     "cellMetadata": {
      "byteLimit": 2048000,
      "rowLimit": 10000
     },
     "inputWidgets": {},
     "nuid": "1ca3e4d5-3682-4944-97f7-2ae752f4b3d2",
     "showTitle": false,
     "tableResultSettingsMap": {},
     "title": ""
    }
   },
   "outputs": [],
   "source": [
    "def read_files(filename,file_type=\"parquet\"):\n",
    "    # File location\n",
    "    file_location = f\"/FileStore/tables/{filename}.parquet\"\n",
    "\n",
    "    # Readfile\n",
    "    df = spark.read.format(file_type)\\\n",
    "        .load(file_location)\n",
    "    \n",
    "    return df\n",
    "\n",
    "\n",
    "#Read Data\n",
    "df_sales_transactions = read_files('sales_transactions')\n",
    "df_sales_suppliers = read_files('sales_suppliers')\n",
    "df_sales_franchises = read_files('sales_franchises')\n",
    "df_sales_customers = read_files('sales_customers')\n",
    "df_media_customer_reviews = read_files('media_customer_reviews')\n",
    "df_media_gold_reviews_chunked = read_files('media_gold_reviews_chunked')"
   ]
  },
  {
   "cell_type": "markdown",
   "metadata": {
    "application/vnd.databricks.v1+cell": {
     "cellMetadata": {},
     "inputWidgets": {},
     "nuid": "88694b75-0ddc-482c-9c21-0e89ebe32f1b",
     "showTitle": false,
     "tableResultSettingsMap": {},
     "title": ""
    }
   },
   "source": [
    "#Load Data to Bronze Data"
   ]
  },
  {
   "cell_type": "code",
   "execution_count": 0,
   "metadata": {
    "application/vnd.databricks.v1+cell": {
     "cellMetadata": {
      "byteLimit": 2048000,
      "rowLimit": 10000
     },
     "inputWidgets": {},
     "nuid": "19f1f4c0-41e3-40db-a54a-7fee791ca435",
     "showTitle": false,
     "tableResultSettingsMap": {},
     "title": ""
    }
   },
   "outputs": [],
   "source": [
    "#Create Bronze Tables \n",
    "def load_data_bronze(df,tableName):\n",
    "    df.write.format('delta').mode(\"overwrite\").save(f\"dbfs:/mnt/bronze/{tableName}\")\n",
    "\n",
    "    spark.sql(f'DROP TABLE IF EXISTS bronze.{tableName}')\n",
    "\n",
    "    spark.sql(f\"\"\"\n",
    "    CREATE TABLE bronze.{tableName}\n",
    "    USING DELTA\n",
    "    LOCATION 'dbfs:/mnt/bronze/{tableName}'\n",
    "    \"\"\")\n",
    "\n",
    "load_data_bronze(df_sales_transactions,'sales_transactions')\n",
    "load_data_bronze(df_sales_suppliers,'sales_suppliers')\n",
    "load_data_bronze(df_sales_franchises,'sales_franchises')\n",
    "load_data_bronze(df_sales_customers,'sales_customers')\n",
    "load_data_bronze(df_media_customer_reviews,'media_customer_reviews')\n",
    "load_data_bronze(df_media_gold_reviews_chunked,'media_gold_reviews_chunked')"
   ]
  },
  {
   "cell_type": "markdown",
   "metadata": {
    "application/vnd.databricks.v1+cell": {
     "cellMetadata": {},
     "inputWidgets": {},
     "nuid": "0758133b-7bcf-4382-8819-902babe63b85",
     "showTitle": false,
     "tableResultSettingsMap": {},
     "title": ""
    }
   },
   "source": [
    "#Load data into Silver with SCD1 "
   ]
  },
  {
   "cell_type": "code",
   "execution_count": 0,
   "metadata": {
    "application/vnd.databricks.v1+cell": {
     "cellMetadata": {
      "byteLimit": 2048000,
      "rowLimit": 10000
     },
     "inputWidgets": {},
     "nuid": "33fe0295-e5d7-481b-8d80-fcb4dd52c086",
     "showTitle": false,
     "tableResultSettingsMap": {},
     "title": ""
    }
   },
   "outputs": [],
   "source": [
    "from delta.tables import DeltaTable\n",
    "\n",
    "def load_data_silver(df,tableName,uniqueid):\n",
    "    # Load existing Delta table\n",
    "    fullTableName = f'silver.{tableName}'\n",
    "    filepath = f\"dbfs:/mnt/silver/{tableName}\"\n",
    "\n",
    "    df.write.format(\"delta\").mode(\"overwrite\").option(\"overwriteSchema\",True).save(filepath)\n",
    "    delta_table = DeltaTable.forPath(spark, filepath)\n",
    "                                     \n",
    "    # Incoming updates DataFramea\n",
    "    df_updates = spark.table( f'bronze.{tableName}')\n",
    "\n",
    "\n",
    "    # Merge condition (usually on primary key or unique business key)\n",
    "    merge_condition = f\"target.{uniqueid} = source.{uniqueid}\"\n",
    "\n",
    "    #print(delta_table.columns())\n",
    "    #print(df_updates.columns())\n",
    "\n",
    "    # Perform MERGE (SCD Type 1: update existing rows, insert new ones)\n",
    "    delta_table.alias(\"target\") \\\n",
    "    .merge(\n",
    "        df_updates.alias(\"source\"),\n",
    "        merge_condition\n",
    "    ) \\\n",
    "    .whenMatchedUpdateAll() \\\n",
    "    .whenNotMatchedInsertAll() \\\n",
    "    .execute()\n",
    "\n",
    "    spark.sql(f'DROP TABLE IF EXISTS silver.{tableName}')\n",
    "\n",
    "    spark.sql(f\"\"\"\n",
    "    CREATE TABLE silver.{tableName}\n",
    "    USING DELTA\n",
    "    LOCATION 'dbfs:/mnt/silver/{tableName}'\n",
    "    \"\"\")\n"
   ]
  },
  {
   "cell_type": "code",
   "execution_count": 0,
   "metadata": {
    "application/vnd.databricks.v1+cell": {
     "cellMetadata": {
      "byteLimit": 2048000,
      "rowLimit": 10000
     },
     "inputWidgets": {},
     "nuid": "45d924ca-dbdd-4bf1-b64a-631859bd5289",
     "showTitle": false,
     "tableResultSettingsMap": {},
     "title": ""
    }
   },
   "outputs": [],
   "source": [
    "load_data_silver(df_sales_franchises,'sales_franchises','franchiseID')\n",
    "load_data_silver(df_sales_customers,'sales_customers','customerID')\n",
    "load_data_silver(df_sales_suppliers,'sales_suppliers','supplierID')\n",
    "load_data_silver(df_sales_transactions,'sales_transactions','transactionID')"
   ]
  },
  {
   "cell_type": "markdown",
   "metadata": {
    "application/vnd.databricks.v1+cell": {
     "cellMetadata": {},
     "inputWidgets": {},
     "nuid": "cc7b7533-815c-4937-80ef-d13296b76c6d",
     "showTitle": false,
     "tableResultSettingsMap": {},
     "title": ""
    }
   },
   "source": [
    "#Load Data To Gold"
   ]
  },
  {
   "cell_type": "code",
   "execution_count": 0,
   "metadata": {
    "application/vnd.databricks.v1+cell": {
     "cellMetadata": {
      "byteLimit": 2048000,
      "rowLimit": 10000
     },
     "inputWidgets": {},
     "nuid": "a6143307-3ce0-4b17-8995-e77bd7685290",
     "showTitle": true,
     "tableResultSettingsMap": {},
     "title": "fact_sales"
    }
   },
   "outputs": [
    {
     "output_type": "execute_result",
     "data": {
      "text/plain": [
       "DataFrame[]"
      ]
     },
     "execution_count": 102,
     "metadata": {},
     "output_type": "execute_result"
    }
   ],
   "source": [
    "silver_filepath = f\"dbfs:/mnt/silver/sales_transactions\"\n",
    "gold_filepath = f\"dbfs:/mnt/gold/fact_sales\"\n",
    "tableName = 'fact_sales'\n",
    "\n",
    "df = spark.read.format('delta').load(silver_filepath)\n",
    "df = df.withColumn('Year',split(col('dateTime'),'-').getItem(0))\\\n",
    "  .withColumn('Month',split(col('dateTime'),'-').getItem(1))\n",
    "\n",
    "df.write.format('delta').mode('overwrite').option('overwriteSchema',True).save(gold_filepath)\n",
    "\n",
    "spark.sql(f'DROP TABLE IF EXISTS gold.{tableName}')\n",
    "\n",
    "spark.sql(f\"\"\"\n",
    "    CREATE TABLE gold.{tableName}\n",
    "    USING DELTA\n",
    "    LOCATION 'dbfs:/mnt/gold/{tableName}'\n",
    "    \"\"\")"
   ]
  },
  {
   "cell_type": "code",
   "execution_count": 0,
   "metadata": {
    "application/vnd.databricks.v1+cell": {
     "cellMetadata": {
      "byteLimit": 2048000,
      "rowLimit": 10000
     },
     "inputWidgets": {},
     "nuid": "4304bb4d-b1b3-4965-9fde-e60941347f68",
     "showTitle": true,
     "tableResultSettingsMap": {},
     "title": "dim_sales_suppliers"
    }
   },
   "outputs": [
    {
     "output_type": "execute_result",
     "data": {
      "text/plain": [
       "DataFrame[]"
      ]
     },
     "execution_count": 93,
     "metadata": {},
     "output_type": "execute_result"
    }
   ],
   "source": [
    "silver_filepath = f\"dbfs:/mnt/silver/sales_suppliers\"\n",
    "gold_filepath = f\"dbfs:/mnt/gold/dim_sales_suppliers\"\n",
    "tableName = 'dim_sales_suppliers'\n",
    "\n",
    "df = spark.read.format('delta').load(silver_filepath)\n",
    "df.write.format('delta').mode('overwrite').save(gold_filepath)\n",
    "\n",
    "spark.sql(f'DROP TABLE IF EXISTS gold.{tableNamae}')\n",
    "\n",
    "spark.sql(f\"\"\"\n",
    "    CREATE TABLE gold.{tableName}\n",
    "    USING DELTA\n",
    "    LOCATION 'dbfs:/mnt/gold/{tableName}'\n",
    "    \"\"\")"
   ]
  },
  {
   "cell_type": "code",
   "execution_count": 0,
   "metadata": {
    "application/vnd.databricks.v1+cell": {
     "cellMetadata": {
      "byteLimit": 2048000,
      "rowLimit": 10000
     },
     "inputWidgets": {},
     "nuid": "268426a2-8eef-40c8-a53b-28f9c6940efe",
     "showTitle": true,
     "tableResultSettingsMap": {},
     "title": "dim_sales_franchises"
    }
   },
   "outputs": [
    {
     "output_type": "execute_result",
     "data": {
      "text/plain": [
       "DataFrame[]"
      ]
     },
     "execution_count": 96,
     "metadata": {},
     "output_type": "execute_result"
    }
   ],
   "source": [
    "silver_filepath = f\"dbfs:/mnt/silver/sales_franchises\"\n",
    "gold_filepath = f\"dbfs:/mnt/gold/dim_sales_franchises\"\n",
    "tableName = 'dim_sales_franchises'\n",
    "\n",
    "df = spark.read.format('delta').load(silver_filepath)\n",
    "df.write.format('delta').mode('overwrite').save(gold_filepath)\n",
    "\n",
    "spark.sql(f'DROP TABLE IF EXISTS gold.{tableName}')\n",
    "\n",
    "spark.sql(f\"\"\"\n",
    "    CREATE TABLE gold.{tableName}\n",
    "    USING DELTA\n",
    "    LOCATION 'dbfs:/mnt/gold/{tableName}'\n",
    "    \"\"\")"
   ]
  },
  {
   "cell_type": "markdown",
   "metadata": {
    "application/vnd.databricks.v1+cell": {
     "cellMetadata": {},
     "inputWidgets": {},
     "nuid": "ee3a3db7-3cb1-4fef-9619-0a4a174e4901",
     "showTitle": false,
     "tableResultSettingsMap": {},
     "title": ""
    }
   },
   "source": [
    "#Queries"
   ]
  },
  {
   "cell_type": "code",
   "execution_count": 0,
   "metadata": {
    "application/vnd.databricks.v1+cell": {
     "cellMetadata": {
      "byteLimit": 2048000,
      "implicitDf": true,
      "rowLimit": 10000
     },
     "inputWidgets": {},
     "nuid": "fc9937f5-c155-44e2-a5c7-564ea9fb03a3",
     "showTitle": true,
     "tableResultSettingsMap": {},
     "title": "Get the most sold products to identify the top-selling items."
    }
   },
   "outputs": [
    {
     "output_type": "display_data",
     "data": {
      "text/html": [
       "<style scoped>\n",
       "  .table-result-container {\n",
       "    max-height: 300px;\n",
       "    overflow: auto;\n",
       "  }\n",
       "  table, th, td {\n",
       "    border: 1px solid black;\n",
       "    border-collapse: collapse;\n",
       "  }\n",
       "  th, td {\n",
       "    padding: 5px;\n",
       "  }\n",
       "  th {\n",
       "    text-align: left;\n",
       "  }\n",
       "</style><div class='table-result-container'><table class='table-result'><thead style='background-color: white'><tr><th>Product</th><th>TotalQuantity</th></tr></thead><tbody><tr><td>Golden Gate Ginger</td><td>3865</td></tr><tr><td>Outback Oatmeal</td><td>3733</td></tr><tr><td>Austin Almond Biscotti</td><td>3716</td></tr><tr><td>Tokyo Tidbits</td><td>3662</td></tr><tr><td>Pearly Pies</td><td>3595</td></tr><tr><td>Orchard Oasis</td><td>3586</td></tr></tbody></table></div>"
      ]
     },
     "metadata": {
      "application/vnd.databricks.v1+output": {
       "addedWidgets": {},
       "aggData": [],
       "aggError": "",
       "aggOverflow": false,
       "aggSchema": [],
       "aggSeriesLimitReached": false,
       "aggType": "",
       "arguments": {},
       "columnCustomDisplayInfos": {},
       "data": [
        [
         "Golden Gate Ginger",
         3865
        ],
        [
         "Outback Oatmeal",
         3733
        ],
        [
         "Austin Almond Biscotti",
         3716
        ],
        [
         "Tokyo Tidbits",
         3662
        ],
        [
         "Pearly Pies",
         3595
        ],
        [
         "Orchard Oasis",
         3586
        ]
       ],
       "datasetInfos": [],
       "dbfsResultPath": null,
       "isJsonSchema": true,
       "metadata": {
        "dataframeName": "_sqldf",
        "executionCount": 99
       },
       "overflow": false,
       "plotOptions": {
        "customPlotOptions": {},
        "displayType": "table",
        "pivotAggregation": null,
        "pivotColumns": null,
        "xColumns": null,
        "yColumns": null
       },
       "removedWidgets": [],
       "schema": [
        {
         "metadata": "{}",
         "name": "Product",
         "type": "\"string\""
        },
        {
         "metadata": "{}",
         "name": "TotalQuantity",
         "type": "\"long\""
        }
       ],
       "type": "table"
      }
     },
     "output_type": "display_data"
    }
   ],
   "source": [
    "%sql\n",
    "select Product,sum(quantity) as TotalQuantity from gold.fact_sales\n",
    "group by product\n",
    "order by TotalQuantity desc"
   ]
  },
  {
   "cell_type": "code",
   "execution_count": 0,
   "metadata": {
    "application/vnd.databricks.v1+cell": {
     "cellMetadata": {
      "byteLimit": 2048000,
      "implicitDf": true,
      "rowLimit": 10000
     },
     "inputWidgets": {},
     "nuid": "bc9b97e3-842a-4d58-83d9-72d07cc92203",
     "showTitle": true,
     "tableResultSettingsMap": {},
     "title": "Find which suppliers provide ingredients to the most franchises."
    }
   },
   "outputs": [
    {
     "output_type": "display_data",
     "data": {
      "text/html": [
       "<style scoped>\n",
       "  .table-result-container {\n",
       "    max-height: 300px;\n",
       "    overflow: auto;\n",
       "  }\n",
       "  table, th, td {\n",
       "    border: 1px solid black;\n",
       "    border-collapse: collapse;\n",
       "  }\n",
       "  th, td {\n",
       "    padding: 5px;\n",
       "  }\n",
       "  th {\n",
       "    text-align: left;\n",
       "  }\n",
       "</style><div class='table-result-container'><table class='table-result'><thead style='background-color: white'><tr><th>supplierID</th><th>franchiseCount</th><th>ingridentsCount</th></tr></thead><tbody><tr><td>4000022</td><td>1</td><td>1</td></tr><tr><td>4000021</td><td>1</td><td>1</td></tr><tr><td>4000005</td><td>1</td><td>1</td></tr><tr><td>4000003</td><td>1</td><td>1</td></tr><tr><td>4000004</td><td>1</td><td>1</td></tr><tr><td>4000009</td><td>1</td><td>1</td></tr><tr><td>4000015</td><td>1</td><td>1</td></tr><tr><td>4000019</td><td>1</td><td>1</td></tr><tr><td>4000013</td><td>1</td><td>1</td></tr><tr><td>4000026</td><td>1</td><td>1</td></tr><tr><td>4000018</td><td>1</td><td>1</td></tr><tr><td>4000001</td><td>1</td><td>1</td></tr><tr><td>4000000</td><td>1</td><td>1</td></tr><tr><td>4000007</td><td>1</td><td>1</td></tr><tr><td>4000008</td><td>1</td><td>1</td></tr><tr><td>4000025</td><td>1</td><td>1</td></tr><tr><td>4000020</td><td>1</td><td>1</td></tr><tr><td>4000024</td><td>1</td><td>1</td></tr><tr><td>4000017</td><td>1</td><td>1</td></tr><tr><td>4000010</td><td>1</td><td>1</td></tr><tr><td>4000002</td><td>1</td><td>1</td></tr><tr><td>4000012</td><td>1</td><td>1</td></tr><tr><td>4000023</td><td>1</td><td>1</td></tr><tr><td>4000014</td><td>1</td><td>1</td></tr><tr><td>4000016</td><td>1</td><td>1</td></tr><tr><td>4000006</td><td>1</td><td>1</td></tr><tr><td>4000011</td><td>1</td><td>1</td></tr></tbody></table></div>"
      ]
     },
     "metadata": {
      "application/vnd.databricks.v1+output": {
       "addedWidgets": {},
       "aggData": [],
       "aggError": "",
       "aggOverflow": false,
       "aggSchema": [],
       "aggSeriesLimitReached": false,
       "aggType": "",
       "arguments": {},
       "columnCustomDisplayInfos": {},
       "data": [
        [
         4000022,
         1,
         1
        ],
        [
         4000021,
         1,
         1
        ],
        [
         4000005,
         1,
         1
        ],
        [
         4000003,
         1,
         1
        ],
        [
         4000004,
         1,
         1
        ],
        [
         4000009,
         1,
         1
        ],
        [
         4000015,
         1,
         1
        ],
        [
         4000019,
         1,
         1
        ],
        [
         4000013,
         1,
         1
        ],
        [
         4000026,
         1,
         1
        ],
        [
         4000018,
         1,
         1
        ],
        [
         4000001,
         1,
         1
        ],
        [
         4000000,
         1,
         1
        ],
        [
         4000007,
         1,
         1
        ],
        [
         4000008,
         1,
         1
        ],
        [
         4000025,
         1,
         1
        ],
        [
         4000020,
         1,
         1
        ],
        [
         4000024,
         1,
         1
        ],
        [
         4000017,
         1,
         1
        ],
        [
         4000010,
         1,
         1
        ],
        [
         4000002,
         1,
         1
        ],
        [
         4000012,
         1,
         1
        ],
        [
         4000023,
         1,
         1
        ],
        [
         4000014,
         1,
         1
        ],
        [
         4000016,
         1,
         1
        ],
        [
         4000006,
         1,
         1
        ],
        [
         4000011,
         1,
         1
        ]
       ],
       "datasetInfos": [],
       "dbfsResultPath": null,
       "isJsonSchema": true,
       "metadata": {
        "dataframeName": "_sqldf",
        "executionCount": 106
       },
       "overflow": false,
       "plotOptions": {
        "customPlotOptions": {},
        "displayType": "table",
        "pivotAggregation": null,
        "pivotColumns": null,
        "xColumns": null,
        "yColumns": null
       },
       "removedWidgets": [],
       "schema": [
        {
         "metadata": "{}",
         "name": "supplierID",
         "type": "\"long\""
        },
        {
         "metadata": "{}",
         "name": "franchiseCount",
         "type": "\"long\""
        },
        {
         "metadata": "{}",
         "name": "ingridentsCount",
         "type": "\"long\""
        }
       ],
       "type": "table"
      }
     },
     "output_type": "display_data"
    }
   ],
   "source": [
    "%sql\n",
    "select s.supplierID,count(f.franchiseID) as franchiseCount,count(s.ingredient) as ingridentsCount from gold.dim_sales_franchises f \n",
    "JOIN gold.dim_sales_suppliers s\n",
    "on f.supplierID = s.supplierID\n",
    "group by s.supplierID\n",
    "order by ingridentsCount,franchiseCount desc"
   ]
  },
  {
   "cell_type": "code",
   "execution_count": 0,
   "metadata": {
    "application/vnd.databricks.v1+cell": {
     "cellMetadata": {
      "byteLimit": 2048000,
      "implicitDf": true,
      "rowLimit": 10000
     },
     "inputWidgets": {},
     "nuid": "7cb8ec1f-3649-4379-b164-f96852256ccd",
     "showTitle": true,
     "tableResultSettingsMap": {},
     "title": "Get total sales per month."
    }
   },
   "outputs": [
    {
     "output_type": "display_data",
     "data": {
      "text/html": [
       "<style scoped>\n",
       "  .table-result-container {\n",
       "    max-height: 300px;\n",
       "    overflow: auto;\n",
       "  }\n",
       "  table, th, td {\n",
       "    border: 1px solid black;\n",
       "    border-collapse: collapse;\n",
       "  }\n",
       "  th, td {\n",
       "    padding: 5px;\n",
       "  }\n",
       "  th {\n",
       "    text-align: left;\n",
       "  }\n",
       "</style><div class='table-result-container'><table class='table-result'><thead style='background-color: white'><tr><th>Year</th><th>Month</th><th>TotalPrice</th></tr></thead><tbody><tr><td>2024</td><td>05</td><td>9999</td></tr></tbody></table></div>"
      ]
     },
     "metadata": {
      "application/vnd.databricks.v1+output": {
       "addedWidgets": {},
       "aggData": [],
       "aggError": "",
       "aggOverflow": false,
       "aggSchema": [],
       "aggSeriesLimitReached": false,
       "aggType": "",
       "arguments": {},
       "columnCustomDisplayInfos": {},
       "data": [
        [
         "2024",
         "05",
         9999
        ]
       ],
       "datasetInfos": [],
       "dbfsResultPath": null,
       "isJsonSchema": true,
       "metadata": {
        "dataframeName": "_sqldf",
        "executionCount": 104
       },
       "overflow": false,
       "plotOptions": {
        "customPlotOptions": {},
        "displayType": "table",
        "pivotAggregation": null,
        "pivotColumns": null,
        "xColumns": null,
        "yColumns": null
       },
       "removedWidgets": [],
       "schema": [
        {
         "metadata": "{}",
         "name": "Year",
         "type": "\"string\""
        },
        {
         "metadata": "{}",
         "name": "Month",
         "type": "\"string\""
        },
        {
         "metadata": "{}",
         "name": "TotalPrice",
         "type": "\"long\""
        }
       ],
       "type": "table"
      }
     },
     "output_type": "display_data"
    }
   ],
   "source": [
    "%sql\n",
    "select Year,Month,sum(unitPrice) as TotalPrice from gold.fact_sales\n",
    "group by Year,Month\n",
    "order by TotalPrice desc"
   ]
  }
 ],
 "metadata": {
  "application/vnd.databricks.v1+notebook": {
   "computePreferences": null,
   "dashboards": [],
   "environmentMetadata": null,
   "inputWidgetPreferences": null,
   "language": "python",
   "notebookMetadata": {
    "mostRecentlyExecutedCommandWithImplicitDF": {
     "commandId": 662495500500092,
     "dataframes": [
      "_sqldf"
     ]
    },
    "pythonIndentUnit": 4
   },
   "notebookName": "Bakehouse Assignment",
   "widgets": {}
  }
 },
 "nbformat": 4,
 "nbformat_minor": 0
}